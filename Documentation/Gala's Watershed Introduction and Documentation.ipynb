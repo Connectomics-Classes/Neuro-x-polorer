{
 "cells": [
  {
   "cell_type": "markdown",
   "metadata": {},
   "source": [
    "# NeuroXplorer"
   ]
  },
  {
   "cell_type": "markdown",
   "metadata": {},
   "source": [
    "## Introductory Gala Watershed Process Documentation \n",
    "<p>Augusto Ramirez, Thomas Keady, Albert Lee</p>"
   ]
  },
  {
   "cell_type": "markdown",
   "metadata": {},
   "source": [
    "## Part 1 : Data collection\n",
    "\n",
    "Data collection tutorials can be found at https://github.com/openconnectome/ndio-demos.git. Detailed documentation also exists at https://github.com/openconnectome/ndio. Data collected from ndio and saved as a numpy file with the name 'nXp_data.npy' can be run through our watershed process when placed in the same folder .\n",
    "\n",
    "The data used for our watershed process can be found at https://www.dropbox.com/s/95rsvfdhkiodq1x/nXp_data.npy?dl=0. The rest of the necessary programs are located on our github repo at https://github.com/Connectomics-Classes/NeuroXplorer to compare results. "
   ]
  },
  {
   "cell_type": "markdown",
   "metadata": {},
   "source": [
    "## Part 2 : Watershed\n",
    "\n",
    "The complete watershed file can be found in our github repo in the folder 'testing' under the name 'gala_shed.py'. As long as the 'nxp_data.np' file is in the same folder, the program can be immediately run from terminal using the command 'python gala_shed.py'. The following steps deconstruct the program on a very basic level."
   ]
  },
  {
   "cell_type": "markdown",
   "metadata": {},
   "source": [
    "### Step 1:\n",
    "\n",
    "First launch python and import the following packages. If an error states that a certain module does not exist simply use 'pip install __insert package name here__' in order to download the package. Detailed instructions on using pip can be found at https://pip.pypa.io/en/stable/installing/."
   ]
  },
  {
   "cell_type": "code",
   "execution_count": null,
   "metadata": {
    "collapsed": true
   },
   "outputs": [],
   "source": [
    "### Watershed segmentation imports\n",
    "from gala import classify, morpho, features, agglo, evaluate as ev, optimized \n",
    "import numpy as np\n",
    "from skimage.morphology import closing\n",
    "from skimage.morphology import binary_dilation\n",
    "from skimage.morphology import binary_erosion\n",
    "from skimage.filters.rank import threshold\n",
    "import matplotlib.pyplot as plt\n",
    "###\n",
    "\n",
    "print \"Done importing packages\""
   ]
  },
  {
   "cell_type": "markdown",
   "metadata": {},
   "source": [
    "### Step 2\n",
    "\n",
    "Next load the necessary data from our 'nxp_data.npy file'. If you are using your own data, make sure you have already replaced our npy file with your own. In any case, please make sure the file you are using is named 'nxp_data.np'."
   ]
  },
  {
   "cell_type": "code",
   "execution_count": null,
   "metadata": {
    "collapsed": true
   },
   "outputs": [],
   "source": [
    "# Gather images from nXp_data.npy file\n",
    "print \"Getting images\"\n",
    "membrane_images = np.load('nXp_data.npy')\n",
    "\n",
    "# Assigning one image from array to variable pre_image\n",
    "pre_image = 255 * membrane_images[0]\n",
    "\n",
    "min_seed_size = 5 #2\n",
    "connectivity = 2 #2\n",
    "smooth_thresh = 0.02 #0.02"
   ]
  },
  {
   "cell_type": "markdown",
   "metadata": {},
   "source": [
    "### Step 3\n",
    "\n",
    "The below code is for the actual watershed segmentation. The distance parameters can be modified to produce different results. "
   ]
  },
  {
   "cell_type": "code",
   "execution_count": null,
   "metadata": {
    "collapsed": true
   },
   "outputs": [],
   "source": [
    "########\n",
    "# Watershed segmentation\n",
    "########\n",
    "print \"Running watershed\"\n",
    "\n",
    "ws_train = morpho.watershed(pre_image,\n",
    "connectivity=connectivity, smooth_thresh=smooth_thresh,\n",
    "override_skimage=1,minimum_seed_size=min_seed_size) + 1\n",
    "#ws_train = ws_train\n",
    "\n",
    "fig, axes = plt.subplots(ncols=1, figsize=(8, 2.7), sharex=True, sharey=True, subplot_kw={'adjustable':'box-forced'})\n",
    "ax0 = axes\n",
    "\n",
    "ax0.imshow(ws_train)#, cmap=plt.cm.spectral, interpolation='nearest')\n",
    "ax0.set_title('Overlapping objects')\n",
    "\n",
    "\n",
    "    "
   ]
  },
  {
   "cell_type": "markdown",
   "metadata": {},
   "source": [
    "### Step 5\n",
    "\n",
    "Finally a plot of the annotated image should pop up. "
   ]
  },
  {
   "cell_type": "code",
   "execution_count": null,
   "metadata": {
    "collapsed": false
   },
   "outputs": [],
   "source": [
    "fig.subplots_adjust(hspace=0.01, wspace=0.01, top=0.9, bottom=0, left=0,\n",
    "                    right=1)\n",
    "\n",
    "plt.show()"
   ]
  }
 ],
 "metadata": {
  "kernelspec": {
   "display_name": "Python 2",
   "language": "python",
   "name": "python2"
  },
  "language_info": {
   "codemirror_mode": {
    "name": "ipython",
    "version": 2
   },
   "file_extension": ".py",
   "mimetype": "text/x-python",
   "name": "python",
   "nbconvert_exporter": "python",
   "pygments_lexer": "ipython2",
   "version": "2.7.11"
  }
 },
 "nbformat": 4,
 "nbformat_minor": 0
}
