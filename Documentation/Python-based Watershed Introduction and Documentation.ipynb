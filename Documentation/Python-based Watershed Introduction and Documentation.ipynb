{
 "cells": [
  {
   "cell_type": "markdown",
   "metadata": {},
   "source": [
    "# NeuroXplorer"
   ]
  },
  {
   "cell_type": "markdown",
   "metadata": {},
   "source": [
    "## Introductory Python Watershed Process Documentation \n",
    "<p>Augusto Ramirez, Thomas Keady, Albert Lee</p>"
   ]
  },
  {
   "cell_type": "markdown",
   "metadata": {},
   "source": [
    "## Part 1 : Data collection\n",
    "\n",
    "Data collection tutorials can be found at https://github.com/openconnectome/ndio-demos.git. Detailed documentation also exists at https://github.com/openconnectome/ndio. Data collected from ndio and saved as a numpy file with the name 'nXp_data.npy' can be run through our watershed process when placed in the same folder .\n",
    "\n",
    "The data used for our watershed process can be found at https://www.dropbox.com/s/95rsvfdhkiodq1x/nXp_data.npy?dl=0. The rest of the necessary programs are located on our github repo at https://github.com/Connectomics-Classes/NeuroXplorer to compare results. "
   ]
  },
  {
   "cell_type": "markdown",
   "metadata": {},
   "source": [
    "## Part 2 : Watershed\n",
    "\n",
    "The complete watershed file can be found in our github repo in the folder 'testing' under the name 'watershed_test.py'. As long as the 'nxp_data.np' file is in the same folder, the program can be immediately run from terminal using the command 'python watershed_test.py'. The following steps deconstruct the program on a very basic level."
   ]
  },
  {
   "cell_type": "markdown",
   "metadata": {},
   "source": [
    "### Step 1:\n",
    "\n",
    "First launch python and import the following packages. If an error states that a certain module does not exist simply use 'pip install __insert package name here__' in order to download the package. Detailed instructions on using pip can be found at https://pip.pypa.io/en/stable/installing/."
   ]
  },
  {
   "cell_type": "code",
   "execution_count": null,
   "metadata": {
    "collapsed": true
   },
   "outputs": [],
   "source": [
    "### Watershed segmentation imports\n",
    "import numpy as np\n",
    "import matplotlib.pyplot as plt\n",
    "from scipy import ndimage as ndi\n",
    "\n",
    "from skimage.morphology import watershed\n",
    "from skimage.feature import peak_local_max\n",
    "from skimage.morphology import closing\n",
    "from skimage.morphology import binary_dilation\n",
    "from skimage.morphology import binary_erosion\n",
    "from skimage.filters.rank import threshold\n",
    "from skimage.exposure import rescale_intensity\n",
    "from skimage.filters import threshold_otsu\n",
    "###\n",
    "\n",
    "print \"Done importing packages\""
   ]
  },
  {
   "cell_type": "markdown",
   "metadata": {},
   "source": [
    "### Step 2\n",
    "\n",
    "Next load the necessary data from our 'nxp_data.npy file'. If you are using your own data, make sure you have already replaced our npy file with your own. In any case, please make sure the file you are using is named 'nxp_data.np'."
   ]
  },
  {
   "cell_type": "code",
   "execution_count": null,
   "metadata": {
    "collapsed": true
   },
   "outputs": [],
   "source": [
    "# Gather images from nXp_data.npy file\n",
    "print \"Getting images\"\n",
    "membrane_images = np.load('nXp_data.npy')\n",
    "\n",
    "# Assigning one image from array to variable pre_image\n",
    "pre_image = membrane_images[0]"
   ]
  },
  {
   "cell_type": "markdown",
   "metadata": {},
   "source": [
    "### Step 3\n",
    "\n",
    "Several different image processing tools are necessary to increase precision. "
   ]
  },
  {
   "cell_type": "code",
   "execution_count": null,
   "metadata": {
    "collapsed": true
   },
   "outputs": [],
   "source": [
    "########\n",
    "# Binary closing on image\n",
    "########\n",
    "print \"Running closing\"\n",
    "\n",
    "close_image = closing(pre_image, selem=np.ones((4,4)))\n",
    "\n",
    "print \"Running median filter\"\n",
    "# Remove white speckles of noise\n",
    "img_med = ndi.median_filter(close_image, size=4)\n",
    "\n",
    "print \"Running threshold\"\n",
    "#binary_img = threshold(close_image, selem=np.ones((200,200)))\n",
    "threshold = threshold_otsu(img_med)\n",
    "binary_img = img_med > threshold\n",
    "\n",
    "image = binary_img\n",
    "foreground = 1 - image\n",
    "\n",
    "# image = foreground"
   ]
  },
  {
   "cell_type": "markdown",
   "metadata": {},
   "source": [
    "### Step 4\n",
    "\n",
    "The below code is for the actual watershed segmentation. The distance parameters can be modified to produce different results. "
   ]
  },
  {
   "cell_type": "code",
   "execution_count": null,
   "metadata": {
    "collapsed": true
   },
   "outputs": [],
   "source": [
    "########\n",
    "# Watershed segmentation\n",
    "########\n",
    "print \"Running watershed\"\n",
    "\n",
    "# Now we want to separate the two objects in image\n",
    "# Generate the markers as local maxima of the distance to the background\n",
    "distance = ndi.distance_transform_edt(foreground) # parameter: sampling=[100,100])\n",
    "distance_float = rescale_intensity(distance, in_range='image', out_range='float')\n",
    "\n",
    "local_maxi = peak_local_max(distance, indices=False, footprint=np.ones((10, 10)),\n",
    "                            labels=foreground)\n",
    "markers = ndi.label(local_maxi)[0] #[0]\n",
    "\n",
    "#markers = distance > 5\n",
    "#print markers\n",
    "#markers = threshold(distance_float, selem=np.ones((10,10)))\n",
    "labels =  watershed(foreground, markers, mask=foreground)\n",
    "#labels =  watershed(distance, markers, mask=image)\n",
    "\n",
    "fig, axes = plt.subplots(ncols=3, figsize=(10, 10), sharex=True, sharey=True, subplot_kw={'adjustable':'box-forced'})\n",
    "ax0, ax1, ax2 = axes\n",
    "\n",
    "ax0.imshow(image, cmap=plt.cm.gray, interpolation='nearest')\n",
    "ax0.set_title('Overlapping objects')\n",
    "ax1.imshow(distance, cmap=plt.cm.jet, interpolation='nearest')\n",
    "ax1.set_title('Distances')\n",
    "ax2.imshow(labels, cmap=plt.cm.spectral, interpolation='nearest')\n",
    "ax2.set_title('Separated objects')\n",
    "\n",
    "for ax in axes:\n",
    "    ax.axis('off')\n",
    "    \n",
    "    "
   ]
  },
  {
   "cell_type": "markdown",
   "metadata": {},
   "source": [
    "### Step 5\n",
    "\n",
    "Finally a plot of the annotated image should pop up. "
   ]
  },
  {
   "cell_type": "code",
   "execution_count": null,
   "metadata": {
    "collapsed": false
   },
   "outputs": [],
   "source": [
    "fig.subplots_adjust(hspace=0.01, wspace=0.01, top=0.9, bottom=0, left=0,\n",
    "                    right=1)\n",
    "\n",
    "plt.show()"
   ]
  },
  {
   "cell_type": "markdown",
   "metadata": {},
   "source": [
    "### Step 6\n",
    "\n",
    "Lastly, evaluate the data to test your parameters."
   ]
  },
  {
   "cell_type": "code",
   "execution_count": null,
   "metadata": {
    "collapsed": false
   },
   "outputs": [],
   "source": [
    "########\n",
    "# Evaluation\n",
    "########\n",
    "print \"Running evaluation\"\n",
    "\n",
    "print \"...Split VI Evaluation\" # Want closest to [0,0] for (undersegmentation (false_merges), oversegmentation (false_splits))\n",
    "split_eval = ev.split_vi(ws, membrane_ground[0])\n",
    "print split_eval\n",
    "\n",
    "print \"...Adjusted Rand Index Evaluation\" # Want the closest to 1.0\n",
    "adjusted_rand = ev.adj_rand_index(ws, membrane_ground[0])\n",
    "print adjusted_rand\n",
    "\n",
    "print \"...Fowlkes-Mallows Index Evaluation\" # Want closest to 1\n",
    "fm = ev.fm_index(ws, membrane_ground[0])\n",
    "print fm"
   ]
  }
 ],
 "metadata": {
  "kernelspec": {
   "display_name": "Python 2",
   "language": "python",
   "name": "python2"
  },
  "language_info": {
   "codemirror_mode": {
    "name": "ipython",
    "version": 2
   },
   "file_extension": ".py",
   "mimetype": "text/x-python",
   "name": "python",
   "nbconvert_exporter": "python",
   "pygments_lexer": "ipython2",
   "version": "2.7.11"
  }
 },
 "nbformat": 4,
 "nbformat_minor": 0
}
